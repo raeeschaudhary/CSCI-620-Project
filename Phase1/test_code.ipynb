{
 "cells": [
  {
   "cell_type": "code",
   "execution_count": 1,
   "metadata": {},
   "outputs": [
    {
     "name": "stdout",
     "output_type": "stream",
     "text": [
      "jel\n"
     ]
    }
   ],
   "source": [
    "print(\"jel\")"
   ]
  },
  {
   "cell_type": "code",
   "execution_count": 2,
   "metadata": {},
   "outputs": [],
   "source": [
    "import psycopg2\n",
    "import psycopg2.extras as extras\n",
    "import os\n",
    "\n",
    "def connect():\n",
    "    return psycopg2.connect(\n",
    "        dbname=db_config['database'],\n",
    "        user=db_config['user'],\n",
    "        password=db_config['password'],\n",
    "        host=db_config['host'],\n",
    "        port=db_config['port']\n",
    "    )\n",
    "\n",
    "# method to connect and execute an sql file script for database\n",
    "def exec_sql_file(path):\n",
    "    # full_path = os.path.join(os.path.dirname(__file__), f'./{path}')\n",
    "    current_directory = os.getcwd()\n",
    "    full_path = os.path.join(current_directory, f'./{path}')\n",
    "    conn = connect()\n",
    "    cur = conn.cursor()\n",
    "    with open(full_path, 'r') as file:\n",
    "        cur.execute(file.read())\n",
    "    conn.commit()\n",
    "    conn.close()\n",
    "\n",
    "# method to connect and get one record from db; based on provide query\n",
    "def exec_get_one(sql, args={}):\n",
    "    conn = connect()\n",
    "    cur = conn.cursor()\n",
    "    cur.execute(sql, args)\n",
    "    one = cur.fetchone()\n",
    "    conn.close()\n",
    "    return one\n",
    "\n",
    "# method to connect and get all records from db; based on provide query\n",
    "def exec_get_all(sql, args={}):\n",
    "    conn = connect()\n",
    "    cur = conn.cursor()\n",
    "    cur.execute(sql, args)\n",
    "    # https://www.psycopg.org/docs/cursor.html#cursor.fetchall\n",
    "    list_of_tuples = cur.fetchall()\n",
    "    conn.close()\n",
    "    return list_of_tuples\n",
    "\n",
    "# method to execute a query; based on provided query\n",
    "def exec_commit(sql, args={}):\n",
    "    conn = connect()\n",
    "    cur = conn.cursor()\n",
    "    result = cur.execute(sql, args)\n",
    "    conn.commit()\n",
    "    conn.close()\n",
    "    return result\n",
    "\n",
    "# method to excute a bulk query (i.e., to insert chunk of data togather) based on provided query and input data\n",
    "def execute_df_values(sql, tuples):\n",
    "    conn = connect()\n",
    "    cur = conn.cursor()\n",
    "    result = extras.execute_values(cur, sql, tuples)\n",
    "    conn.commit()\n",
    "    conn.close()\n",
    "    return result\n"
   ]
  },
  {
   "cell_type": "code",
   "execution_count": 3,
   "metadata": {},
   "outputs": [
    {
     "name": "stdout",
     "output_type": "stream",
     "text": [
      "hello\n"
     ]
    }
   ],
   "source": [
    "input_files = [\"users\", \"badges\", \"tags\", \"posts\", \"posttags\", \"comments\", \"dummy\"]\n",
    "db_config = {\n",
    "    'host': 'localhost',\n",
    "    'database': 'pp1',\n",
    "    'user': 'postgres',\n",
    "    'password': 'root',\n",
    "    'port': '5432'\n",
    "}\n",
    "\n",
    "data_directory = 'C:\\\\Users\\\\mr2714\\\\OneDrive - rit.edu\\\\Python_Projects\\\\BigData\\\\pdata\\\\'\n",
    "\n",
    "chunk_size = 10\n",
    "\n",
    "print(\"hello\")"
   ]
  },
  {
   "cell_type": "code",
   "execution_count": 6,
   "metadata": {},
   "outputs": [],
   "source": [
    "users_query = \"\"\" DROP TABLE IF EXISTS users CASCADE;\n",
    "\n",
    "CREATE TABLE users (\n",
    "    Id INTEGER PRIMARY KEY,\n",
    "    UserName VARCHAR(50),\n",
    "    DisplayName VARCHAR(50),\n",
    "    RegisterDate DATE,\n",
    "    PerformanceTier INTEGER, \n",
    "    Country VARCHAR(50)\n",
    ");\"\"\""
   ]
  },
  {
   "cell_type": "code",
   "execution_count": 10,
   "metadata": {},
   "outputs": [],
   "source": [
    "users_insert_query = \"\"\"\n",
    "    INSERT INTO Users (Id, UserName, DisplayName,RegisterDate,PerformanceTier,Country)\n",
    "    VALUES %s\n",
    "    \"\"\""
   ]
  },
  {
   "cell_type": "code",
   "execution_count": 8,
   "metadata": {},
   "outputs": [
    {
     "name": "stdout",
     "output_type": "stream",
     "text": [
      "   Id             Name          Slug CreationDate  \\\n",
      "0   2         Facebook      facebook   07/25/2016   \n",
      "1   3     Figure Eight   crowdflower   08/20/2016   \n",
      "2   4           Kaggle        kaggle   09/23/2016   \n",
      "3   5  Last-Place Ltd.  lastplaceltd   09/27/2016   \n",
      "4   6           CWILOC        cwiloc   09/27/2016   \n",
      "\n",
      "                                         Description  \n",
      "0  Facebook was built to help people connect and ...  \n",
      "1  [Figure Eight](https://www.figure-eight.com/) ...  \n",
      "2  Kaggle is a community of data scientists and d...  \n",
      "3                                                NaN  \n",
      "4  [Climatological Database for the World's Ocean...  \n",
      "   Id                                        Name         Slug CreationDate  \\\n",
      "5   7                        UCI Machine Learning        uciml   09/27/2016   \n",
      "6   8                                 Hacker News  hacker-news   09/27/2016   \n",
      "7   9  US Department of Health and Human Services          hhs   09/28/2016   \n",
      "8  10                                    MetaMind     metamind   09/28/2016   \n",
      "9  11                                       Bosch        bosch   10/03/2016   \n",
      "\n",
      "                                         Description  \n",
      "5  The [UCI Machine Learning Repository](https://...  \n",
      "6  Hacker News is a popular website run by YCombi...  \n",
      "7  The [United States Department of Health and Hu...  \n",
      "8  MetaMind's a machine learning company that's n...  \n",
      "9  The Bosch Group is a leading global supplier o...  \n"
     ]
    }
   ],
   "source": [
    "import pandas as pd\n",
    "# exec_commit(users_query)\n",
    "# Specify the file path\n",
    "csv_file = 'C:\\\\Users\\\\mr2714\\\\Desktop\\\\venvs\\\\pdata\\\\Organizations.csv'\n",
    "\n",
    "# Read the file in chunks of 1000 rows at a time\n",
    "chunk_size = 5\n",
    "chunks = pd.read_csv(csv_file, chunksize=chunk_size)\n",
    "\n",
    "# Process each chunk (example: printing the first few rows)\n",
    "c_count = 1\n",
    "for chunk in chunks:\n",
    "    print(chunk)  # or any operation on the chunk\n",
    "    # df_values = list(chunk.itertuples(index=False, name=None))\n",
    "    # print(chunk)\n",
    "    # execute_df_values(users_insert_query,df_values)\n",
    "    c_count += 1\n",
    "\n",
    "    if c_count >= 3:\n",
    "        break\n"
   ]
  },
  {
   "cell_type": "code",
   "execution_count": null,
   "metadata": {},
   "outputs": [],
   "source": []
  }
 ],
 "metadata": {
  "kernelspec": {
   "display_name": "base",
   "language": "python",
   "name": "python3"
  },
  "language_info": {
   "codemirror_mode": {
    "name": "ipython",
    "version": 3
   },
   "file_extension": ".py",
   "mimetype": "text/x-python",
   "name": "python",
   "nbconvert_exporter": "python",
   "pygments_lexer": "ipython3",
   "version": "3.9.12"
  }
 },
 "nbformat": 4,
 "nbformat_minor": 2
}
