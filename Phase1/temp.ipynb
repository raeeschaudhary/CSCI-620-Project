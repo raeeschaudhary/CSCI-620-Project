{
 "cells": [
  {
   "cell_type": "code",
   "execution_count": 3,
   "metadata": {},
   "outputs": [],
   "source": [
    "### Clean Competitions\n",
    "\n",
    "import pandas as pd\n",
    "\n",
    "def clean_csv_columns_to_keep(input_file, output_file, columns_to_keep):\n",
    "    # Read the entire CSV file into a DataFrame\n",
    "    df = pd.read_csv(input_file)\n",
    "    \n",
    "    # Filter the DataFrame to keep only the specified columns\n",
    "    cleaned_df = df[columns_to_keep]\n",
    "    \n",
    "    # Save the cleaned DataFrame to a new CSV file\n",
    "    cleaned_df.to_csv(output_file, index=False)\n",
    "\n",
    "# Usage\n",
    "\n",
    "columns_to_keep = [\n",
    "    'Id', 'Slug', 'Title', 'ForumId', 'EnabledDate', 'DeadlineDate',\n",
    "    'EvaluationAlgorithmName', 'MaxTeamSize', 'NumPrizes', 'TotalTeams', 'TotalCompetitors', 'TotalSubmissions'\n",
    "]  # Add your desired columns here\n",
    "\n",
    "input_file = 'C:\\\\Users\\\\mr2714\\\\Desktop\\\\venvs\\\\pdata\\\\Competitions.csv'\n",
    "output_file = 'C:\\\\Users\\\\mr2714\\\\Desktop\\\\venvs\\\\pdata\\\\CleanedCompetitions.csv'\n",
    "\n",
    "clean_csv_columns_to_keep(input_file, output_file, columns_to_keep)\n"
   ]
  },
  {
   "cell_type": "code",
   "execution_count": 6,
   "metadata": {},
   "outputs": [
    {
     "name": "stdout",
     "output_type": "stream",
     "text": [
      "     Id  ParentTagId                       Name                       Slug  \\\n",
      "0  1115        12116                   websites                  web-sites   \n",
      "1  1219        12000                   research                   research   \n",
      "2  1220        12116             search engines             search-engines   \n",
      "3  1222        11105  universities and colleges  universities-and-colleges   \n",
      "4  2100        16637     culture and humanities     culture-and-humanities   \n",
      "\n",
      "                                            FullPath  \\\n",
      "0  subject > science and technology > internet > ...   \n",
      "1        subject > science and technology > research   \n",
      "2  subject > science and technology > internet > ...   \n",
      "3  subject > people and society > education > uni...   \n",
      "4                   subject > culture and humanities   \n",
      "\n",
      "                                         Description  DatasetCount  \\\n",
      "0  Websites, like this one, are collections of co...           431   \n",
      "1  Research is our endeavor to systematically inc...           881   \n",
      "2                                                NaN           107   \n",
      "3  This tag contains all kinds of information abo...          9133   \n",
      "4  What is it to be human? What activities and pa...           464   \n",
      "\n",
      "   CompetitionCount  KernelCount  \n",
      "0                 0          274  \n",
      "1                15          388  \n",
      "2                 0           97  \n",
      "3                 0          471  \n",
      "4                 0           87  \n"
     ]
    }
   ],
   "source": [
    "import pandas as pd\n",
    "# exec_commit(users_query)\n",
    "# Specify the file path\n",
    "csv_file = 'C:\\\\Users\\\\mr2714\\\\Desktop\\\\venvs\\\\pdata\\\\Tags.csv'\n",
    "\n",
    "# Read the file in chunks of 1000 rows at a time\n",
    "chunk_size = 5\n",
    "cc = pd.read_csv(csv_file)\n",
    "chunks = pd.read_csv(csv_file, chunksize=chunk_size)\n",
    "\n",
    "# Process each chunk (example: printing the first few rows)\n",
    "c_count = 1\n",
    "for chunk in chunks:\n",
    "    print(chunk)  # or any operation on the chunk\n",
    "    # df_values = list(chunk.itertuples(index=False, name=None))\n",
    "    # print(chunk)\n",
    "    # execute_df_values(users_insert_query,df_values)\n",
    "    c_count += 1\n",
    "\n",
    "    if c_count >= 2:\n",
    "        break\n"
   ]
  },
  {
   "cell_type": "code",
   "execution_count": 9,
   "metadata": {},
   "outputs": [
    {
     "data": {
      "text/plain": [
       "16679.0"
      ]
     },
     "execution_count": 9,
     "metadata": {},
     "output_type": "execute_result"
    }
   ],
   "source": [
    "cc.ParentTagId.max()"
   ]
  }
 ],
 "metadata": {
  "kernelspec": {
   "display_name": "base",
   "language": "python",
   "name": "python3"
  },
  "language_info": {
   "codemirror_mode": {
    "name": "ipython",
    "version": 3
   },
   "file_extension": ".py",
   "mimetype": "text/x-python",
   "name": "python",
   "nbconvert_exporter": "python",
   "pygments_lexer": "ipython3",
   "version": "3.9.12"
  }
 },
 "nbformat": 4,
 "nbformat_minor": 2
}
